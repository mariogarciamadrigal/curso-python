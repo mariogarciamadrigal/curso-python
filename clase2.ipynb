{
  "metadata": {
    "language_info": {
      "codemirror_mode": {
        "name": "python",
        "version": 3
      },
      "file_extension": ".py",
      "mimetype": "text/x-python",
      "name": "python",
      "nbconvert_exporter": "python",
      "pygments_lexer": "ipython3",
      "version": "3.8"
    },
    "kernelspec": {
      "name": "python",
      "display_name": "Python (Pyodide)",
      "language": "python"
    }
  },
  "nbformat_minor": 4,
  "nbformat": 4,
  "cells": [
    {
      "cell_type": "code",
      "source": "#Un bucle es un código que se repite hasta que se cumple una condición dada. Tenemos dos tipos de bucle: finitos e infinitos. Finitos son los que van a terminar\n#si o si, porque conocemos de antemano el número de iteraciones que va a tener. \n#BUCLE FOR! El bucle termina en la primera línea que se encuentre sin identación\n\nfor i in [1,2,3,4]:\n    print(i)",
      "metadata": {
        "trusted": true
      },
      "execution_count": 2,
      "outputs": [
        {
          "name": "stdout",
          "text": "1\n2\n3\n4\n",
          "output_type": "stream"
        }
      ]
    },
    {
      "cell_type": "code",
      "source": "for i in [1,2,3,4]:\n    print(\"El elemento de la lista es:\"+str(i))",
      "metadata": {
        "trusted": true
      },
      "execution_count": 5,
      "outputs": [
        {
          "name": "stdout",
          "text": "El primer elemento de la lista es:1\nEl primer elemento de la lista es:2\nEl primer elemento de la lista es:3\nEl primer elemento de la lista es:4\n",
          "output_type": "stream"
        }
      ]
    },
    {
      "cell_type": "code",
      "source": "semana=[\"Lunes\",\"Martes\",\"Miércoles\",\"Jueves\",\"Viernes\"]\niter=0",
      "metadata": {
        "trusted": true
      },
      "execution_count": 12,
      "outputs": []
    },
    {
      "cell_type": "code",
      "source": "for i in semana:\n    iter=iter+1\n    print(\"El día \"+str(iter)+\" de la semana es: \"+i)",
      "metadata": {
        "trusted": true
      },
      "execution_count": 13,
      "outputs": [
        {
          "name": "stdout",
          "text": "El día 1 la semana es: Lunes\nEl día 2 la semana es: Martes\nEl día 3 la semana es: Miércoles\nEl día 4 la semana es: Jueves\nEl día 5 la semana es: Viernes\n",
          "output_type": "stream"
        }
      ]
    },
    {
      "cell_type": "code",
      "source": "#función RANGE: genera números y la podemos utilizar con un bucle. Si e le pongo solo un número, es de 0 a un número antes al que yo le he puesto.\n\nfor i in range(10):\n    print(i)",
      "metadata": {
        "trusted": true
      },
      "execution_count": 17,
      "outputs": [
        {
          "name": "stdout",
          "text": "0\n1\n2\n3\n4\n5\n6\n7\n8\n9\n",
          "output_type": "stream"
        }
      ]
    },
    {
      "cell_type": "code",
      "source": "#si le doy el rango, lo cuento desde ese número hasta un número antes del que yo le he puesto. \nfor i in range(1,10):\n    print(i)",
      "metadata": {
        "trusted": true
      },
      "execution_count": 5,
      "outputs": [
        {
          "name": "stdout",
          "text": "1\n2\n3\n4\n5\n6\n7\n8\n9\n",
          "output_type": "stream"
        }
      ]
    },
    {
      "cell_type": "code",
      "source": "#PRÁCTICA: Mediante una lista con kos meses del primer semestre, utilizar un bucle para ver un textso que ponga: \"El 1er mes del año es Enero...\"\nmeses_año=[\"Enero\",\"Febrero\",\"Marzo\",\"Abril\",\"Mayo\",\"Junio\"]\niter=0\nfor mes in meses_año:\n    iter=iter+1\n    print(\"El\",str(iter),\"mes del año es\",mes)",
      "metadata": {
        "trusted": true
      },
      "execution_count": 6,
      "outputs": [
        {
          "name": "stdout",
          "text": "El 1 mes del año es Enero\nEl 2 mes del año es Febrero\nEl 3 mes del año es Marzo\nEl 4 mes del año es Abril\nEl 5 mes del año es Mayo\nEl 6 mes del año es Junio\n",
          "output_type": "stream"
        }
      ]
    },
    {
      "cell_type": "code",
      "source": "for i in range(7):\n    print(str(i+1),meses_año[1])",
      "metadata": {
        "trusted": true
      },
      "execution_count": 7,
      "outputs": [
        {
          "name": "stdout",
          "text": "1 Febrero\n2 Febrero\n3 Febrero\n4 Febrero\n5 Febrero\n6 Febrero\n7 Febrero\n",
          "output_type": "stream"
        }
      ]
    },
    {
      "cell_type": "code",
      "source": "#Estructura de decisión if, evalua una condición o prueba lógica, u si se cumple se ejecuta el código que viene a continuación. La prueba lógica consiste en comparar 2 valores\n#mediante un operador de comparación. \n\n#OPERADORES DE COMPARACIÓN:\n#>\n#<\n#>= mayor o igual\n#<=\n#<\n#== igual que\n#!= DISTINTO\n\nedad=18\nif edad<18:\n    print(\"Menor de edad\")\nelse: \n    print(\"Mayor de edad\")",
      "metadata": {
        "trusted": true
      },
      "execution_count": 13,
      "outputs": [
        {
          "name": "stdout",
          "text": "Mayor de edad\n",
          "output_type": "stream"
        }
      ]
    },
    {
      "cell_type": "code",
      "source": "#vamos a combinar. elif con el bucle for, y veremos el break y el contonue. Break termona el bucle y el continue salta esa iteración hasta la siguiente\nfor i in \"Domingo\":\n    print(i)",
      "metadata": {
        "trusted": true
      },
      "execution_count": 14,
      "outputs": [
        {
          "name": "stdout",
          "text": "D\no\nm\ni\nn\ng\no\n",
          "output_type": "stream"
        }
      ]
    },
    {
      "cell_type": "code",
      "source": "#imprimir hasta que encontremos la G\nfor i in \"Domingo\":\n    if i==\"n\":\n        break\n    print(i)",
      "metadata": {
        "trusted": true
      },
      "execution_count": 17,
      "outputs": [
        {
          "name": "stdout",
          "text": "D\no\nm\ni\n",
          "output_type": "stream"
        }
      ]
    },
    {
      "cell_type": "code",
      "source": "#PRACTICA: aprovechando la lista semestre, vamos a escribir los meses con un bucle for hasta el mes de mayo. \nfor mes in meses_año:\n    if mes == \"Mayo\":\n        break\n    print(mes)",
      "metadata": {
        "trusted": true
      },
      "execution_count": 18,
      "outputs": [
        {
          "name": "stdout",
          "text": "Enero\nFebrero\nMarzo\nAbril\n",
          "output_type": "stream"
        }
      ]
    },
    {
      "cell_type": "code",
      "source": "iter=0\nfor i in \"hola caracola\":\n    if i == \"a\":\n        iter=iter+1\n        \nprint(iter)    ",
      "metadata": {
        "trusted": true
      },
      "execution_count": 25,
      "outputs": [
        {
          "name": "stdout",
          "text": "4\n",
          "output_type": "stream"
        }
      ]
    },
    {
      "cell_type": "code",
      "source": "contador=0\nfor i in \"hola caracola\":\n    if i!=\"a\":\n        continue\n    contador=contador+1\nprint(contador)",
      "metadata": {
        "trusted": true
      },
      "execution_count": 26,
      "outputs": [
        {
          "name": "stdout",
          "text": "4\n",
          "output_type": "stream"
        }
      ]
    },
    {
      "cell_type": "code",
      "source": "#una función para saber si el numero que le paso a la función es mayor o menor de 100\n\ndef num100(parametro):\n    if parametro<=100:\n        print(str(parametro)+\":Menor o igual a 100\")\n    else:\n        print(str(parametro)+\":Mayor a 100\")\n        ",
      "metadata": {
        "trusted": true
      },
      "execution_count": 29,
      "outputs": []
    },
    {
      "cell_type": "code",
      "source": "num100(10)",
      "metadata": {
        "trusted": true
      },
      "execution_count": 30,
      "outputs": [
        {
          "name": "stdout",
          "text": "10:Menor o igual a 100\n",
          "output_type": "stream"
        }
      ]
    },
    {
      "cell_type": "code",
      "source": "#utilizar el elif dentro de una estructura de decisión para tener más opciones de devolución: clasifica el texto entre 0 y 100, entre 100 y 300, y Mayor de 300\ndef clasificator(numero):\n    if numero <=100:\n        print(str(numero)+\" : Número entre 0 y 100\")\n    elif numero <=300:\n        print(str(numero)+\" : Número entre 100 y 300\")\n    else:\n        print(str(numero)+\" : Mayor que 300\")\n        ",
      "metadata": {
        "trusted": true
      },
      "execution_count": 31,
      "outputs": []
    },
    {
      "cell_type": "code",
      "source": "clasificator(-1)",
      "metadata": {
        "trusted": true
      },
      "execution_count": 34,
      "outputs": [
        {
          "name": "stdout",
          "text": "-1 : Número entre 0 y 100\n",
          "output_type": "stream"
        }
      ]
    },
    {
      "cell_type": "code",
      "source": "#vamos a crear una funciónpara que me clasifique una edad según su década. Entre 0-10 años, 10-20 años, 20-30 años. BLOQUEAR: #que me digan un número negativo o \n#mayor de 100 años. \n\ndef edad_decadas(edad):\n    if edad <0:\n        print(str(edad)+\" está fuera de rango\")\n    elif edad <=10:\n        print(str(edad)+\": Década 1\")\n    elif edad <=20:\n        print(str(edad)+\": Década 2\")\n    elif edad <=30:\n        print(str(edad)+\": Década 3\")\n    elif edad <=40:\n        print(str(edad)+\": Década 4\")\n    elif edad <=50:\n        print(str(edad)+\": Década 5\")\n    elif edad <=60:\n        print(str(edad)+\": Década 6\")\n    elif edad <=70:\n        print(str(edad)+\": Década 7\")\n    elif edad <=80:\n        print(str(edad)+\": Década 8\")\n    elif edad <=90:\n        print(str(edad)+\": Década 9\")\n    elif edad <=100:\n        print(str(edad)+\": Década 10\")\n    else:\n        print(str(edad)+\" está fuera de rango\")\n",
      "metadata": {
        "trusted": true
      },
      "execution_count": 56,
      "outputs": []
    },
    {
      "cell_type": "code",
      "source": "edad_decadas(-1)\nedad_decadas(101)\nedad_decadas(7)",
      "metadata": {
        "trusted": true
      },
      "execution_count": 57,
      "outputs": [
        {
          "name": "stdout",
          "text": "-1 está fuera de rango\n101 está fuera de rango\n7: Década 1\n",
          "output_type": "stream"
        }
      ]
    },
    {
      "cell_type": "code",
      "source": "#AND: &&\n#OR: ||\n\nciao=\"pescao\"\nif (ciao==\"pescao\" or ciao==\"colocao\"):\n    print(\"Ciao pescao\")",
      "metadata": {
        "trusted": true
      },
      "execution_count": 62,
      "outputs": [
        {
          "name": "stdout",
          "text": "Ciao pescao\n",
          "output_type": "stream"
        }
      ]
    },
    {
      "cell_type": "code",
      "source": "#para trabajar con datos, vamos a utilizar una librería llamada Pandas. \n#pip install pandas\n#también se instala la librería numpy\n\nimport pandas as pd",
      "metadata": {
        "trusted": true
      },
      "execution_count": 63,
      "outputs": []
    },
    {
      "cell_type": "code",
      "source": "#Pandas tiene 3 tipos de estructuras diferentes.\n#Las series: estructuras de 1 dimensión. Sono homogéneas\n#Los dataframes: estructuras de 2 dimensiones, como una tabla. \n#Los paneles son estructuras de 3 dimensiones, como un cubo.\n\nserie=pd.Series([\"Lunes\",\"Martes\",\"Miércoles\",\"Jueves\",\"Viernes\"],dtype=\"string\")\nprint(serie)",
      "metadata": {
        "trusted": true
      },
      "execution_count": 66,
      "outputs": [
        {
          "name": "stdout",
          "text": "0        Lunes\n1       Martes\n2    Miércoles\n3       Jueves\n4      Viernes\ndtype: string\n",
          "output_type": "stream"
        }
      ]
    },
    {
      "cell_type": "code",
      "source": "lista_numeros=[465,60,65,70,89988]\nserie_numeros=pd.Series(lista_numeros)\nprint(serie_numeros)",
      "metadata": {
        "trusted": true
      },
      "execution_count": 68,
      "outputs": [
        {
          "name": "stdout",
          "text": "0      465\n1       60\n2       65\n3       70\n4    89988\ndtype: int64\n",
          "output_type": "stream"
        }
      ]
    },
    {
      "cell_type": "code",
      "source": "serie_numeros[0]",
      "metadata": {
        "trusted": true
      },
      "execution_count": 69,
      "outputs": [
        {
          "execution_count": 69,
          "output_type": "execute_result",
          "data": {
            "text/plain": "465"
          },
          "metadata": {}
        }
      ]
    },
    {
      "cell_type": "code",
      "source": "#resumen de una serie\n#count() nos da el número de elementos que contiene la serie\n",
      "metadata": {},
      "execution_count": null,
      "outputs": []
    }
  ]
}